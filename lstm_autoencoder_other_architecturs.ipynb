{
  "nbformat": 4,
  "nbformat_minor": 0,
  "metadata": {
    "colab": {
      "provenance": [],
      "toc_visible": true,
      "authorship_tag": "ABX9TyMS10sv4tJjgxVrtK5efhi6"
    },
    "kernelspec": {
      "name": "python3",
      "display_name": "Python 3"
    },
    "language_info": {
      "name": "python"
    }
  },
  "cells": [
    {
      "cell_type": "code",
      "source": [
        "!pip install visualkeras"
      ],
      "metadata": {
        "id": "Phkiq4C79Qky"
      },
      "execution_count": null,
      "outputs": []
    },
    {
      "cell_type": "code",
      "execution_count": null,
      "metadata": {
        "id": "DGgBHUIO2eZY"
      },
      "outputs": [],
      "source": [
        "from tensorflow.keras.utils import plot_model\n",
        "\n",
        "from keras.models import Sequential\n",
        "from keras.layers import Input, LSTM, Dropout, Dense, RepeatVector, TimeDistributed, Bidirectional\n",
        "from keras.callbacks import EarlyStopping"
      ]
    },
    {
      "cell_type": "markdown",
      "source": [
        "# Other Models Used"
      ],
      "metadata": {
        "id": "aZN4qMKQQoHL"
      }
    },
    {
      "cell_type": "markdown",
      "source": [
        "### LSTM-Autoencoder: 2-layer depth"
      ],
      "metadata": {
        "id": "P2wHjBYQOf_C"
      }
    },
    {
      "cell_type": "code",
      "source": [
        "input_shape = (trainX.shape[1], trainX.shape[2])  # Define input shape"
      ],
      "metadata": {
        "id": "7q4UmZRTlt6w"
      },
      "execution_count": null,
      "outputs": []
    },
    {
      "cell_type": "code",
      "source": [
        "model = Sequential(\n",
        "    [\n",
        "        Input(shape=input_shape),               # Input layer\n",
        "        LSTM(64, return_sequences=True),       # First LSTM layer (encoder) # Changed to return_sequences=True\n",
        "        LSTM(64),                               # Second LSTM layer (encoder)\n",
        "        Dropout(0.2),                           # Dropout layer\n",
        "        RepeatVector(trainX.shape[1]),          # RepeatVector layer\n",
        "        LSTM(64, return_sequences=True),        # First LSTM layer (decoder)\n",
        "        LSTM(128, return_sequences=True),       # Second LSTM layer (decoder)\n",
        "        Dropout(0.2),                           # Dropout layer\n",
        "        TimeDistributed(Dense(trainX.shape[2])),    # TimeDistributed Dense layer\n",
        "    ],\n",
        "    name=\"lstm-autoencoder-2-layer-deep\"\n",
        ")\n",
        "\n",
        "model.compile(optimizer='adam', loss='mae')\n",
        "model.summary()"
      ],
      "metadata": {
        "id": "j0XuMjvTOf_C",
        "collapsed": true
      },
      "execution_count": null,
      "outputs": []
    },
    {
      "cell_type": "markdown",
      "source": [
        "### Bidirectional LSTM-Autoencoder"
      ],
      "metadata": {
        "id": "CMPT6ZpSOf_C"
      }
    },
    {
      "cell_type": "code",
      "source": [
        "model = Sequential(\n",
        "    [\n",
        "        Input(shape=input_shape),  # Input layer\n",
        "        Bidirectional(LSTM(64, return_sequences=False)),  # First BiLSTM layer (encoder) # changed to return_sequences=False to get 2D output\n",
        "        # Bidirectional(LSTM(64)),  # Second BiLSTM layer (encoder)\n",
        "        Dropout(0.4),  # Dropout layer\n",
        "        RepeatVector(trainX.shape[1]),  # RepeatVector layer\n",
        "        Bidirectional(LSTM(64, return_sequences=True)),  # First BiLSTM layer (decoder)\n",
        "        # Bidirectional(LSTM(128, return_sequences=True)),  # Second BiLSTM layer (decoder)\n",
        "        Dropout(0.4),  # Dropout layer\n",
        "        TimeDistributed(Dense(trainX.shape[2])),  # TimeDistributed Dense layer\n",
        "    ],\n",
        "    name=\"bilstm-autoencoder\"\n",
        ")\n",
        "\n",
        "model.compile(optimizer='adam', loss='mae')\n",
        "model.summary()"
      ],
      "metadata": {
        "id": "Sdg1LiY5Of_C",
        "collapsed": true
      },
      "execution_count": null,
      "outputs": []
    },
    {
      "cell_type": "code",
      "source": [
        "visualkeras.layered_view(model,\n",
        "                         legend=True,\n",
        "                         scale_xy=1.0,\n",
        "                         legend_text_spacing_offset=1,\n",
        "                         draw_volume=False,\n",
        "                         spacing=15\n",
        "                         )"
      ],
      "metadata": {
        "id": "EkI-iIDM6TmD",
        "collapsed": true
      },
      "execution_count": null,
      "outputs": []
    },
    {
      "cell_type": "code",
      "source": [
        "plot_model(model, show_shapes=True, show_layer_names=False, dpi=300, to_file='model.png')"
      ],
      "metadata": {
        "id": "uC4xigzy9aar",
        "collapsed": true
      },
      "execution_count": null,
      "outputs": []
    }
  ]
}